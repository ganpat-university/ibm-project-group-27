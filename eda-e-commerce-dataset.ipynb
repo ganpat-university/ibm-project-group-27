{
 "cells": [
  {
   "cell_type": "code",
   "execution_count": 1,
   "metadata": {
    "_cell_guid": "b1076dfc-b9ad-4769-8c92-a6c4dae69d19",
    "_uuid": "8f2839f25d086af736a60e9eeb907d3b93b6e0e5"
   },
   "outputs": [
    {
     "name": "stdout",
     "output_type": "stream",
     "text": [
      "['events.csv', 'category_tree.csv', 'item_properties_part2.csv', 'item_properties_part1.csv']\n"
     ]
    }
   ],
   "source": [
    "# This Python 3 environment comes with many helpful analytics libraries installed\n",
    "# It is defined by the kaggle/python docker image: https://github.com/kaggle/docker-python\n",
    "# For example, here's several helpful packages to load in \n",
    "\n",
    "import numpy as np # linear algebra\n",
    "import pandas as pd # data processing, CSV file I/O (e.g. pd.read_csv)\n",
    "import seaborn as sns\n",
    "# Input data files are available in the \"../input/\" directory.\n",
    "# For example, running this (by clicking run or pressing Shift+Enter) will list the files in the input directory\n",
    "#import pandas as pd\n",
    "#import numpy as np\n",
    "import operator\n",
    "import time\n",
    "#import seaborn as sns\n",
    "import matplotlib.pyplot as plt\n",
    "sns.set(style=\"ticks\", color_codes=True)\n",
    "\n",
    "\n",
    "\n",
    "import os\n",
    "print(os.listdir(\"../input\"))\n",
    "\n",
    "# Any results you write to the current directory are saved as output."
   ]
  },
  {
   "cell_type": "code",
   "execution_count": 2,
   "metadata": {
    "_cell_guid": "79c7e3d0-c299-4dcb-8224-4455121ee9b0",
    "_uuid": "d629ff2d2480ee46fbb7e2d37f6b5fab8052498a"
   },
   "outputs": [
    {
     "data": {
      "text/html": [
       "<div>\n",
       "<style scoped>\n",
       "    .dataframe tbody tr th:only-of-type {\n",
       "        vertical-align: middle;\n",
       "    }\n",
       "\n",
       "    .dataframe tbody tr th {\n",
       "        vertical-align: top;\n",
       "    }\n",
       "\n",
       "    .dataframe thead th {\n",
       "        text-align: right;\n",
       "    }\n",
       "</style>\n",
       "<table border=\"1\" class=\"dataframe\">\n",
       "  <thead>\n",
       "    <tr style=\"text-align: right;\">\n",
       "      <th></th>\n",
       "      <th>timestamp</th>\n",
       "      <th>itemid</th>\n",
       "      <th>property</th>\n",
       "      <th>value</th>\n",
       "    </tr>\n",
       "  </thead>\n",
       "  <tbody>\n",
       "    <tr>\n",
       "      <th>0</th>\n",
       "      <td>1433041200000</td>\n",
       "      <td>183478</td>\n",
       "      <td>561</td>\n",
       "      <td>769062</td>\n",
       "    </tr>\n",
       "    <tr>\n",
       "      <th>1</th>\n",
       "      <td>1439694000000</td>\n",
       "      <td>132256</td>\n",
       "      <td>976</td>\n",
       "      <td>n26.400 1135780</td>\n",
       "    </tr>\n",
       "    <tr>\n",
       "      <th>2</th>\n",
       "      <td>1435460400000</td>\n",
       "      <td>420307</td>\n",
       "      <td>921</td>\n",
       "      <td>1149317 1257525</td>\n",
       "    </tr>\n",
       "    <tr>\n",
       "      <th>3</th>\n",
       "      <td>1431831600000</td>\n",
       "      <td>403324</td>\n",
       "      <td>917</td>\n",
       "      <td>1204143</td>\n",
       "    </tr>\n",
       "    <tr>\n",
       "      <th>4</th>\n",
       "      <td>1435460400000</td>\n",
       "      <td>230701</td>\n",
       "      <td>521</td>\n",
       "      <td>769062</td>\n",
       "    </tr>\n",
       "  </tbody>\n",
       "</table>\n",
       "</div>"
      ],
      "text/plain": [
       "       timestamp  itemid property            value\n",
       "0  1433041200000  183478      561           769062\n",
       "1  1439694000000  132256      976  n26.400 1135780\n",
       "2  1435460400000  420307      921  1149317 1257525\n",
       "3  1431831600000  403324      917          1204143\n",
       "4  1435460400000  230701      521           769062"
      ]
     },
     "execution_count": 2,
     "metadata": {},
     "output_type": "execute_result"
    }
   ],
   "source": [
    "items=pd.read_csv('../input/item_properties_part1.csv')\n",
    "items1=pd.read_csv('../input/item_properties_part2.csv')\n",
    "items=pd.concat([items1,items])\n",
    "\n",
    "items.head()"
   ]
  },
  {
   "cell_type": "code",
   "execution_count": 3,
   "metadata": {
    "_uuid": "7bd320ecefab9bac88c444e193dc298e003d8c73"
   },
   "outputs": [
    {
     "data": {
      "text/plain": [
       "(20275902, 4)"
      ]
     },
     "execution_count": 3,
     "metadata": {},
     "output_type": "execute_result"
    }
   ],
   "source": [
    "items.shape"
   ]
  },
  {
   "cell_type": "code",
   "execution_count": 4,
   "metadata": {
    "_uuid": "beb34a1d479910c2ab868ebbd2e76f0daac884f6"
   },
   "outputs": [],
   "source": [
    "import datetime\n",
    "times=[]\n",
    "for i in items['timestamp']:\n",
    "    times.append(datetime.datetime.fromtimestamp(i//1000.0))\n",
    "    "
   ]
  },
  {
   "cell_type": "code",
   "execution_count": 5,
   "metadata": {
    "_uuid": "ca9c0cc1ee94eb7550942c2c8c2cf9055be2fd28"
   },
   "outputs": [],
   "source": [
    "items['timestamp']=times"
   ]
  },
  {
   "cell_type": "code",
   "execution_count": 6,
   "metadata": {
    "_uuid": "d4174c642412a45ccd6d07708f2c72fcb0d16393"
   },
   "outputs": [
    {
     "data": {
      "text/html": [
       "<div>\n",
       "<style scoped>\n",
       "    .dataframe tbody tr th:only-of-type {\n",
       "        vertical-align: middle;\n",
       "    }\n",
       "\n",
       "    .dataframe tbody tr th {\n",
       "        vertical-align: top;\n",
       "    }\n",
       "\n",
       "    .dataframe thead th {\n",
       "        text-align: right;\n",
       "    }\n",
       "</style>\n",
       "<table border=\"1\" class=\"dataframe\">\n",
       "  <thead>\n",
       "    <tr style=\"text-align: right;\">\n",
       "      <th></th>\n",
       "      <th>timestamp</th>\n",
       "      <th>itemid</th>\n",
       "      <th>property</th>\n",
       "      <th>value</th>\n",
       "    </tr>\n",
       "  </thead>\n",
       "  <tbody>\n",
       "    <tr>\n",
       "      <th>0</th>\n",
       "      <td>2015-05-31 03:00:00</td>\n",
       "      <td>183478</td>\n",
       "      <td>561</td>\n",
       "      <td>769062</td>\n",
       "    </tr>\n",
       "    <tr>\n",
       "      <th>1</th>\n",
       "      <td>2015-08-16 03:00:00</td>\n",
       "      <td>132256</td>\n",
       "      <td>976</td>\n",
       "      <td>n26.400 1135780</td>\n",
       "    </tr>\n",
       "    <tr>\n",
       "      <th>2</th>\n",
       "      <td>2015-06-28 03:00:00</td>\n",
       "      <td>420307</td>\n",
       "      <td>921</td>\n",
       "      <td>1149317 1257525</td>\n",
       "    </tr>\n",
       "    <tr>\n",
       "      <th>3</th>\n",
       "      <td>2015-05-17 03:00:00</td>\n",
       "      <td>403324</td>\n",
       "      <td>917</td>\n",
       "      <td>1204143</td>\n",
       "    </tr>\n",
       "    <tr>\n",
       "      <th>4</th>\n",
       "      <td>2015-06-28 03:00:00</td>\n",
       "      <td>230701</td>\n",
       "      <td>521</td>\n",
       "      <td>769062</td>\n",
       "    </tr>\n",
       "  </tbody>\n",
       "</table>\n",
       "</div>"
      ],
      "text/plain": [
       "            timestamp  itemid property            value\n",
       "0 2015-05-31 03:00:00  183478      561           769062\n",
       "1 2015-08-16 03:00:00  132256      976  n26.400 1135780\n",
       "2 2015-06-28 03:00:00  420307      921  1149317 1257525\n",
       "3 2015-05-17 03:00:00  403324      917          1204143\n",
       "4 2015-06-28 03:00:00  230701      521           769062"
      ]
     },
     "execution_count": 6,
     "metadata": {},
     "output_type": "execute_result"
    }
   ],
   "source": [
    "#items.to_csv('../input/items.csv')\n",
    "items.head()"
   ]
  },
  {
   "cell_type": "code",
   "execution_count": 7,
   "metadata": {
    "_uuid": "b673d2ddc4d83300ad577637439869866540d92d"
   },
   "outputs": [],
   "source": [
    "events=pd.read_csv('../input/events.csv')"
   ]
  },
  {
   "cell_type": "code",
   "execution_count": 8,
   "metadata": {
    "_uuid": "8709d8b461c2fb8019d1f4f71f84e5f967e2f66f"
   },
   "outputs": [
    {
     "data": {
      "text/plain": [
       "(2756101, 5)"
      ]
     },
     "execution_count": 8,
     "metadata": {},
     "output_type": "execute_result"
    }
   ],
   "source": [
    "events.head\n",
    "events.shape"
   ]
  },
  {
   "cell_type": "markdown",
   "metadata": {
    "_uuid": "0ffe2927a5498a11b5ba4a3dd6d8401c3fa7f25f"
   },
   "source": [
    "**The number of visitors is half the count of visitors who did some actions.**"
   ]
  },
  {
   "cell_type": "code",
   "execution_count": 9,
   "metadata": {
    "_uuid": "5d97b0880aed72b312fe3c5f60e54f397f0091e3"
   },
   "outputs": [
    {
     "name": "stdout",
     "output_type": "stream",
     "text": [
      "Visitor count on actions: (2756101,)\n",
      "Total unique visitors : (1407580,)\n"
     ]
    }
   ],
   "source": [
    "visitors=events[\"visitorid\"].unique()\n",
    "print('Visitor count on actions:',events[\"visitorid\"].shape)\n",
    "print('Total unique visitors :',visitors.shape)\n",
    "#unique visitors are almost half the number of total visitors"
   ]
  },
  {
   "cell_type": "markdown",
   "metadata": {
    "_uuid": "6011fcb25bd5e4d8294828ed5186d9ba61ca1e80"
   },
   "source": [
    "Types of actions/events: "
   ]
  },
  {
   "cell_type": "code",
   "execution_count": 10,
   "metadata": {
    "_uuid": "699c42eabc9b72539edd2c8e1aca9ff05d733f02"
   },
   "outputs": [
    {
     "data": {
      "text/plain": [
       "array(['view', 'addtocart', 'transaction'], dtype=object)"
      ]
     },
     "execution_count": 10,
     "metadata": {},
     "output_type": "execute_result"
    }
   ],
   "source": [
    "events[\"event\"].unique()\n"
   ]
  },
  {
   "cell_type": "markdown",
   "metadata": {
    "_uuid": "c53528c46d19161426f18ea19f056da438b8db2e"
   },
   "source": [
    "**Only 5 thousands of transactions repeated, rest 22457 were different so, Market basket analysis wouldnt be so perfect\n",
    "**"
   ]
  },
  {
   "cell_type": "code",
   "execution_count": 11,
   "metadata": {
    "_uuid": "53343a1d0e0a14a308ead06ad5c1bd7d9a3f8df4"
   },
   "outputs": [
    {
     "name": "stdout",
     "output_type": "stream",
     "text": [
      "17672\n",
      "22457\n"
     ]
    }
   ],
   "source": [
    "print(events[\"transactionid\"].dropna().unique().shape[0])\n",
    "print(events[\"transactionid\"].dropna().shape[0])\n"
   ]
  },
  {
   "cell_type": "markdown",
   "metadata": {
    "_uuid": "d2423860111d75f4857835268ecd629b0744d6b8"
   },
   "source": [
    "We can see that: 78.6% data are single transactional sets.So MBA wont work well"
   ]
  },
  {
   "cell_type": "markdown",
   "metadata": {
    "_uuid": "72225521b8aa4ebf0fb2cdb86b85ad2af604321e"
   },
   "source": [
    "**Number of items (count unique itemid)**"
   ]
  },
  {
   "cell_type": "code",
   "execution_count": 12,
   "metadata": {
    "_uuid": "687a8dcbb3f6195ef08dc924bfb87d873f2888f9"
   },
   "outputs": [
    {
     "name": "stdout",
     "output_type": "stream",
     "text": [
      "(235061,)\n"
     ]
    }
   ],
   "source": [
    "print(events[\"itemid\"].unique().shape)\n",
    "#events[\"itemid\"].unique()"
   ]
  },
  {
   "cell_type": "markdown",
   "metadata": {
    "_uuid": "262888939802d66d8b6cc155453f8efaea8674e5"
   },
   "source": [
    "**Count of Actions and its plot**"
   ]
  },
  {
   "cell_type": "code",
   "execution_count": 13,
   "metadata": {
    "_uuid": "0c74f076b2d85b265c5f89e55964b8668046431f"
   },
   "outputs": [
    {
     "name": "stdout",
     "output_type": "stream",
     "text": [
      "addtocart      69332\n",
      "transaction    22457\n",
      "Name: event, dtype: int64\n"
     ]
    },
    {
     "data": {
      "image/png": "[encoded data removed]",
      "text/plain": [
       "<Figure size 1080x576 with 2 Axes>"
      ]
     },
     "metadata": {},
     "output_type": "display_data"
    }
   ],
   "source": [
    "events_count=events[\"event\"].value_counts()\n",
    "fig, axs = plt.subplots(ncols=2,figsize=(15, 8))\n",
    "sns.barplot(events_count.index, events_count.values, ax=axs[0])\n",
    "\n",
    "events_count=events[\"event\"].value_counts()[1:]\n",
    "#plt.title('Actions Vs Count')\n",
    "g=sns.barplot(events_count.index, events_count.values,ax=axs[1])\n",
    "#g.set_yscale('log')\n",
    "events_count=events[\"event\"].value_counts()[1:]\n",
    "plt.title('Add-to-cart V/s Transaction')\n",
    "sns.barplot(events_count.index, events_count.values)\n",
    "\n",
    "print(events_count)"
   ]
  },
  {
   "cell_type": "markdown",
   "metadata": {
    "_uuid": "d7461abd3c0a50ed8d4153c129056c6b0bfd5d5e"
   },
   "source": [
    "As View count is too much, o get a clear idea over add-to-cart and transaction actions I created a seperate plot"
   ]
  },
  {
   "cell_type": "code",
   "execution_count": 14,
   "metadata": {
    "_uuid": "4269e05b4e340311f8adccc03152e2573d9fe041"
   },
   "outputs": [
    {
     "data": {
      "image/png": "[encoded data removed]",
      "text/plain": [
       "<Figure size 576x576 with 1 Axes>"
      ]
     },
     "metadata": {},
     "output_type": "display_data"
    }
   ],
   "source": [
    "data = events.event.value_counts()\n",
    "labels = data.index\n",
    "sizes = data.values\n",
    "explode = (0, 0.05, 0.15)\n",
    "fig, ax = plt.subplots(figsize=(8,8))\n",
    "\n",
    "patches, texts, autotexts = ax.pie(sizes, labels=labels, explode=explode, autopct='%1.2f%%', shadow=False, startangle=0) \n",
    "\n",
    "ax.axis('equal')\n",
    "plt.show()"
   ]
  },
  {
   "cell_type": "code",
   "execution_count": 15,
   "metadata": {
    "_uuid": "b2b23c7bf2356206d2f912c8799815b4263777ec"
   },
   "outputs": [],
   "source": [
    "#sns.factorplot(\"sex\", \"survival_rate\", col=\"class\", data=df, kind=\"bar\")\n"
   ]
  },
  {
   "cell_type": "code",
   "execution_count": 16,
   "metadata": {
    "_uuid": "e37847c143f913b90a211acfc7fa3687b25dc014"
   },
   "outputs": [],
   "source": [
    "grouped=events.groupby('event')['itemid'].apply(list)\n"
   ]
  },
  {
   "cell_type": "code",
   "execution_count": 17,
   "metadata": {
    "_uuid": "ba29f4e607cdcaca3f1dcabf462d855dc09d0b8d"
   },
   "outputs": [
    {
     "data": {
      "text/plain": [
       "<matplotlib.axes._subplots.AxesSubplot at 0x7eff634d6908>"
      ]
     },
     "execution_count": 17,
     "metadata": {},
     "output_type": "execute_result"
    },
    {
     "data": {
      "image/png": "[encoded data removed]",
      "text/plain": [
       "<Figure size 432x288 with 1 Axes>"
      ]
     },
     "metadata": {},
     "output_type": "display_data"
    }
   ],
   "source": [
    "views=grouped['view']\n",
    "count_view={}\n",
    "#for item in set(views[:]):\n",
    "    #print(item)\n",
    "#    count_view[item]=views.count(item)\n",
    "views=np.array(views[:])\n",
    "\n",
    "unique, counts = np.unique(views, return_counts=True)\n",
    "count_view=dict(zip(unique, counts))\n",
    "sorted_count_view =sorted(count_view.items(), key=operator.itemgetter(1),reverse=True)\n",
    "x=[i[0] for i in sorted_count_view[:5]]\n",
    "y=[i[1] for i in sorted_count_view[:5]]\n",
    "sns.barplot(x,y,order=x)\n"
   ]
  },
  {
   "cell_type": "code",
   "execution_count": 18,
   "metadata": {
    "_uuid": "8549a48e68764e92a18b13638e0a4a8e069052a7"
   },
   "outputs": [
    {
     "data": {
      "image/png": "[encoded data removed]",
      "text/plain": [
       "<Figure size 432x288 with 1 Axes>"
      ]
     },
     "metadata": {},
     "output_type": "display_data"
    }
   ],
   "source": [
    "#the most addtocart itemid\n",
    "addtocart=grouped['addtocart']\n",
    "count_addtocart={}\n",
    "# for item in set(addtocart[:]):\n",
    "#     #print(item)\n",
    "#     count_addtocart[item]=addtocart.count(item)\n",
    "addtocart=np.array(addtocart[:])\n",
    "unique, counts = np.unique(addtocart, return_counts=True)\n",
    "count_addtocart=dict(zip(unique, counts))\n",
    "\n",
    "sorted_count_addtocart =sorted(count_addtocart.items(), key=operator.itemgetter(1),reverse=True)\n",
    "x=[i[0] for i in sorted_count_addtocart[:5]]\n",
    "y=[i[1] for i in sorted_count_addtocart[:5]]\n",
    "g=sns.barplot(x,y, order=x)"
   ]
  },
  {
   "cell_type": "code",
   "execution_count": 19,
   "metadata": {
    "_uuid": "431664c2dced398a3512a9ec1dd353c2c1684175"
   },
   "outputs": [
    {
     "data": {
      "image/png": "[encoded data removed]",
      "text/plain": [
       "<Figure size 432x288 with 1 Axes>"
      ]
     },
     "metadata": {},
     "output_type": "display_data"
    }
   ],
   "source": [
    "#the most transaction itemid\n",
    "transaction=grouped['transaction']\n",
    "count_transaction={}\n",
    "# for item in set(transaction[]):\n",
    "#     #print(item)\n",
    "#     count_transaction[item]=transaction.count(item)\n",
    "transaction=np.array(transaction[:])\n",
    "unique, counts = np.unique(transaction, return_counts=True)\n",
    "count_transaction=dict(zip(unique, counts))\n",
    "\n",
    "sorted_count_transaction =sorted(count_transaction.items(), key=operator.itemgetter(1),reverse=True)\n",
    "x=[i[0] for i in sorted_count_transaction[:5]]\n",
    "y=[i[1] for i in sorted_count_transaction[:5]]\n",
    "g=sns.barplot(x,y, order=x)"
   ]
  },
  {
   "cell_type": "code",
   "execution_count": 20,
   "metadata": {
    "_uuid": "0327e95ea0a894a5fc9e25709799f1a8558df6f9"
   },
   "outputs": [
    {
     "data": {
      "image/png": "[encoded data removed]",
      "text/plain": [
       "<Figure size 1152x648 with 1 Axes>"
      ]
     },
     "metadata": {},
     "output_type": "display_data"
    }
   ],
   "source": [
    "items = events.itemid.value_counts()\n",
    "plt.figure(figsize=(16, 9))\n",
    "plt.hist(items.values, bins=10, log=True,color='red')\n",
    "plt.xlabel('Number of times item appeared', fontsize=16)\n",
    "plt.ylabel('Count of displays with item', fontsize=16)\n",
    "plt.show()\n"
   ]
  },
  {
   "cell_type": "code",
   "execution_count": 21,
   "metadata": {
    "_uuid": "6fd32c59a552cfff51a25d76cd7a04f82a8e1185"
   },
   "outputs": [
    {
     "data": {
      "text/plain": [
       "<matplotlib.axes._subplots.AxesSubplot at 0x7eff1ce6ccc0>"
      ]
     },
     "execution_count": 21,
     "metadata": {},
     "output_type": "execute_result"
    },
    {
     "data": {
      "image/png": "[encoded data removed]",
      "text/plain": [
       "<Figure size 432x288 with 1 Axes>"
      ]
     },
     "metadata": {},
     "output_type": "display_data"
    }
   ],
   "source": [
    "#number of total views, number of avg view by top users(quantile 90% and also all users)\n",
    "grouped=events.groupby('event')['visitorid'].apply(list)\n",
    "views=grouped['view']\n",
    "count_view={}\n",
    "# for item in set(views[:]):\n",
    "#     #print(item)\n",
    "#     count_view[item]=views.count(item)\n",
    "\n",
    "views=np.array(views[:])\n",
    "\n",
    "unique, counts = np.unique(views, return_counts=True)\n",
    "count_view=dict(zip(unique, counts))\n",
    "\n",
    "sorted_count_view =sorted(count_view.items(), key=operator.itemgetter(1),reverse=True)\n",
    "x=[i[0] for i in sorted_count_view[:5]]\n",
    "y=[i[1] for i in sorted_count_view[:5]]\n",
    "sns.barplot(x,y,order=x)"
   ]
  },
  {
   "cell_type": "code",
   "execution_count": 22,
   "metadata": {
    "_uuid": "1351404b7882beff0701d53954e1939420e0813b"
   },
   "outputs": [
    {
     "data": {
      "image/png": "[encoded data removed]",
      "text/plain": [
       "<Figure size 432x288 with 1 Axes>"
      ]
     },
     "metadata": {},
     "output_type": "display_data"
    }
   ],
   "source": [
    "#number of total transactions, number of avg transactions by top users(quantile 90% and also all users)\n",
    "transaction=grouped['transaction']\n",
    "count_transaction={}\n",
    "# for item in set(transaction:\n",
    "#     #print(item)\n",
    "#     count_transaction[item]=transaction.count(item)\n",
    "transaction=np.array(transaction[:])\n",
    "unique, counts = np.unique(transaction, return_counts=True)\n",
    "count_transaction=dict(zip(unique, counts))\n",
    "sorted_count_transaction =sorted(count_transaction.items(), key=operator.itemgetter(1),reverse=True)\n",
    "x=[i[0] for i in sorted_count_transaction[:5]]\n",
    "y=[i[1] for i in sorted_count_transaction[:5]]\n",
    "g=sns.barplot(x,y, order=x)\n"
   ]
  },
  {
   "cell_type": "code",
   "execution_count": 23,
   "metadata": {
    "_uuid": "43c56387ca08bf1f3a83fc9323ec5945b2e0b9eb"
   },
   "outputs": [
    {
     "data": {
      "image/png": "[encoded data removed]",
      "text/plain": [
       "<Figure size 432x288 with 1 Axes>"
      ]
     },
     "metadata": {},
     "output_type": "display_data"
    }
   ],
   "source": [
    "#number of total addtocart, number of avg addtocart by top users(quantile 90% and also all users)\n",
    "addtocart=grouped['addtocart']\n",
    "count_addtocart={}\n",
    "# for item in set(addtocart[:]):\n",
    "#     #print(item)\n",
    "#     count_addtocart[item]=addtocart.count(item)\n",
    "addtocart=np.array(addtocart[:])\n",
    "unique, counts = np.unique(addtocart, return_counts=True)\n",
    "count_addtocart=dict(zip(unique, counts))\n",
    "sorted_count_addtocart =sorted(count_addtocart.items(), key=operator.itemgetter(1),reverse=True)\n",
    "x=[i[0] for i in sorted_count_addtocart[:5]]\n",
    "y=[i[1] for i in sorted_count_addtocart[:5]]\n",
    "g=sns.barplot(x,y, order=x)"
   ]
  },
  {
   "cell_type": "code",
   "execution_count": 24,
   "metadata": {
    "_uuid": "4c033344fd24d46ab7c2d06f4b548d933656782b"
   },
   "outputs": [
    {
     "data": {
      "image/png": "[encoded data removed]",
      "text/plain": [
       "<Figure size 1152x648 with 1 Axes>"
      ]
     },
     "metadata": {},
     "output_type": "display_data"
    }
   ],
   "source": [
    "items = events.visitorid.value_counts()\n",
    "plt.figure(figsize=(16, 9))\n",
    "plt.hist(items.values, bins=20, log=True,color='red')\n",
    "plt.xlabel('Number of times visitor appeared', fontsize=16)\n",
    "plt.ylabel('Count of displays with visitor', fontsize=16)\n",
    "plt.show()\n"
   ]
  },
  {
   "cell_type": "code",
   "execution_count": 25,
   "metadata": {
    "_uuid": "2d1b2e3ef3dc73e8cbbdba068753e4f71b9c87a7"
   },
   "outputs": [
    {
     "data": {
      "image/png": "[encoded data removed]",
      "text/plain": [
       "<Figure size 432x288 with 1 Axes>"
      ]
     },
     "metadata": {},
     "output_type": "display_data"
    }
   ],
   "source": [
    "#most active user(s)   3 plot of each with view,add,transaction events\n",
    "allevents=list(events['visitorid'])\n",
    "count_allevents={}\n",
    "# for item in set(allevents[:]):\n",
    "#    # print(item)\n",
    "#     count_allevents[item]=allevents.count(item)\n",
    "allevents=np.array(allevents)\n",
    "unique, counts = np.unique(allevents, return_counts=True)\n",
    "count_allevents=dict(zip(unique, counts))\n",
    "sorted_count_allevents =sorted(count_allevents.items(), key=operator.itemgetter(1),reverse=True)\n",
    "x=[i[0] for i in sorted_count_allevents[:5]]\n",
    "y=[i[1] for i in sorted_count_allevents[:5]]\n",
    "g=sns.barplot(x,y, order=x)"
   ]
  },
  {
   "cell_type": "code",
   "execution_count": 26,
   "metadata": {
    "_uuid": "273124dc63aa55a1d8c984b279f135a4d365dd9e"
   },
   "outputs": [
    {
     "data": {
      "image/png": "[encoded data removed]",
      "text/plain": [
       "<Figure size 432x288 with 1 Axes>"
      ]
     },
     "metadata": {},
     "output_type": "display_data"
    }
   ],
   "source": [
    "#most active item(s)   3 plot of each with view,add,transaction events\n",
    "allevents=list(events['itemid'])\n",
    "count_allevents={}\n",
    "# for item in set(allevents[:]):\n",
    "#    # print(item)\n",
    "#     count_allevents[item]=allevents.count(item)\n",
    "allevents=np.array(allevents)\n",
    "unique, counts = np.unique(allevents, return_counts=True)\n",
    "count_allevents=dict(zip(unique, counts))\n",
    "sorted_count_allevents =sorted(count_allevents.items(), key=operator.itemgetter(1),reverse=True)\n",
    "x=[i[0] for i in sorted_count_allevents[:5]]\n",
    "y=[i[1] for i in sorted_count_allevents[:5]]\n",
    "g=sns.barplot(x,y, order=x)"
   ]
  },
  {
   "cell_type": "code",
   "execution_count": 27,
   "metadata": {
    "_uuid": "41dc1818b9d61039259fe38c358334a590eb3595"
   },
   "outputs": [
    {
     "name": "stdout",
     "output_type": "stream",
     "text": [
      "       timestamp  visitorid event  itemid  transactionid\n",
      "0  1433221332117     257597  view  355908            NaN\n",
      "1  1433224214164     992329  view  248676            NaN\n",
      "2  1433221999827     111016  view  318965            NaN\n",
      "3  1433221955914     483717  view  253185            NaN\n",
      "4  1433221337106     951259  view  367447            NaN\n"
     ]
    },
    {
     "data": {
      "text/plain": [
       "1150086    7757\n",
       "530559     4328\n",
       "152963     3024\n",
       "895999     2474\n",
       "163561     2410\n",
       "Name: visitorid, dtype: int64"
      ]
     },
     "execution_count": 27,
     "metadata": {},
     "output_type": "execute_result"
    }
   ],
   "source": [
    "#Create\n",
    "##########df= as below\n",
    "\n",
    "#visitorid event count\n",
    "#1   view 100\n",
    "#1   addtocart   50\n",
    "#1   transa    5\n",
    "#2   view 100\n",
    "#2   addtocart   50\n",
    "#2   transa    5\n",
    "#3   view 100\n",
    "#3   addtocart   50\n",
    "#3   transa    5\n",
    "print(events.head())\n",
    "items.head()\n",
    "#ax = sns.catplot(x=x, y='visitorid',hue=\"event\", data=events.iloc[:,:])\n",
    "\n",
    "##\n",
    "#x=[[1,2,3],[1,2,3],[12,1,2]]\n",
    "#y=[1,2,3]\n",
    "#sns.barplot(x,x)\n",
    "##\n",
    "#top 5-10 in each category plots and all category plots(stacked charts in all categories)\n",
    "\n"
   ]
  },
  {
   "cell_type": "markdown",
   "metadata": {
    "_uuid": "315a182c2354bbc2fe480d0db682041d6c709601"
   },
   "source": [
    "Event-wise Detailing"
   ]
  },
  {
   "cell_type": "code",
   "execution_count": 28,
   "metadata": {
    "_uuid": "2ee1a856c36cca782f3036bc14322f84437673e0"
   },
   "outputs": [
    {
     "data": {
      "text/plain": [
       "count    235061.000000\n",
       "mean         11.725046\n",
       "std          37.032101\n",
       "min           1.000000\n",
       "25%           1.000000\n",
       "50%           3.000000\n",
       "75%           9.000000\n",
       "max        3412.000000\n",
       "Name: itemid, dtype: float64"
      ]
     },
     "execution_count": 28,
     "metadata": {},
     "output_type": "execute_result"
    }
   ],
   "source": [
    "events.itemid.value_counts().describe()"
   ]
  },
  {
   "cell_type": "code",
   "execution_count": 29,
   "metadata": {
    "_uuid": "84b383329e500ad70e9d025e0434e57f276a577c"
   },
   "outputs": [
    {
     "data": {
      "text/plain": [
       "count    234838.000000\n",
       "mean         11.345319\n",
       "std          35.409345\n",
       "min           1.000000\n",
       "25%           1.000000\n",
       "50%           3.000000\n",
       "75%           9.000000\n",
       "max        3410.000000\n",
       "Name: itemid, dtype: float64"
      ]
     },
     "execution_count": 29,
     "metadata": {},
     "output_type": "execute_result"
    }
   ],
   "source": [
    "events[events.event == 'view'].itemid.value_counts().describe()"
   ]
  },
  {
   "cell_type": "code",
   "execution_count": 30,
   "metadata": {
    "_uuid": "3536e43bbb6a5c4ff6677ccbfc3e4c570aaa2429"
   },
   "outputs": [
    {
     "data": {
      "text/plain": [
       "count    23903.000000\n",
       "mean         2.900556\n",
       "std          5.026141\n",
       "min          1.000000\n",
       "25%          1.000000\n",
       "50%          2.000000\n",
       "75%          3.000000\n",
       "max        306.000000\n",
       "Name: itemid, dtype: float64"
      ]
     },
     "execution_count": 30,
     "metadata": {},
     "output_type": "execute_result"
    }
   ],
   "source": [
    "events[events.event == 'addtocart'].itemid.value_counts().describe()"
   ]
  },
  {
   "cell_type": "code",
   "execution_count": 31,
   "metadata": {
    "_uuid": "b23340221122a5f91f5cea66cc3eb9b4bacade49"
   },
   "outputs": [
    {
     "data": {
      "text/plain": [
       "count    12025.000000\n",
       "mean         1.867526\n",
       "std          2.710560\n",
       "min          1.000000\n",
       "25%          1.000000\n",
       "50%          1.000000\n",
       "75%          2.000000\n",
       "max        133.000000\n",
       "Name: itemid, dtype: float64"
      ]
     },
     "execution_count": 31,
     "metadata": {},
     "output_type": "execute_result"
    }
   ],
   "source": [
    "events[events.event == 'transaction'].itemid.value_counts().describe()"
   ]
  },
  {
   "cell_type": "code",
   "execution_count": 32,
   "metadata": {
    "_uuid": "42fbd271cc710f2c135ddf5e20d9f9304efca186"
   },
   "outputs": [
    {
     "data": {
      "text/plain": [
       "<matplotlib.axes._subplots.AxesSubplot at 0x7eff1d1c1ef0>"
      ]
     },
     "execution_count": 32,
     "metadata": {},
     "output_type": "execute_result"
    },
    {
     "data": {
      "image/png": "[encoded data removed]",
      "text/plain": [
       "<Figure size 432x288 with 2 Axes>"
      ]
     },
     "metadata": {},
     "output_type": "display_data"
    }
   ],
   "source": [
    "corr = events[events.columns].corr()\n",
    "sns.heatmap(corr,annot = True)\n"
   ]
  },
  {
   "cell_type": "code",
   "execution_count": 33,
   "metadata": {
    "_uuid": "6a260b4aa1f0a549499b129773a5b261efe035d3"
   },
   "outputs": [],
   "source": [
    "#time vs event"
   ]
  },
  {
   "cell_type": "code",
   "execution_count": 34,
   "metadata": {
    "_uuid": "93f90b6b1006a1ea3476444ceb2d5d3864357cf5"
   },
   "outputs": [
    {
     "name": "stdout",
     "output_type": "stream",
     "text": [
      "category_tree.csv\n",
      "events.csv\n",
      "item_properties_part1.csv\n",
      "item_properties_part2.csv\n",
      "\n"
     ]
    }
   ],
   "source": [
    "import scipy.sparse as sp\n",
    "from scipy.sparse import vstack\n",
    "from scipy import sparse\n",
    "from scipy.sparse.linalg import spsolve\n",
    "\n",
    "# Input data files are available in the \"../input/\" directory.\n",
    "# For example, running this (by clicking run or pressing Shift+Enter) will list the files in the input directory\n",
    "\n",
    "from subprocess import check_output\n",
    "from sklearn.model_selection import train_test_split\n",
    "print(check_output([\"ls\", \"../input\"]).decode(\"utf8\"))\n",
    "events = pd.read_csv('../input/events.csv')\n",
    "category_tree = pd.read_csv('../input/category_tree.csv')\n",
    "items1 = pd.read_csv('../input/item_properties_part1.csv')\n",
    "items2 = pd.read_csv('../input/item_properties_part2.csv')\n",
    "items = pd.concat([items1, items2])"
   ]
  },
  {
   "cell_type": "code",
   "execution_count": 35,
   "metadata": {
    "_uuid": "651abc69fe27dad93dbc23315b3d6d5a7850cd5f"
   },
   "outputs": [
    {
     "name": "stdout",
     "output_type": "stream",
     "text": [
      "1407580 466866\n"
     ]
    }
   ],
   "source": [
    "n_users = events['visitorid'].unique().shape[0]\n",
    "n_items = items['itemid'].max()\n",
    "print (str(n_users) +\" \" +  str(n_items))\n",
    "user_to_item_matrix = sp.dok_matrix((n_users+1, n_items+2), dtype=np.int8)"
   ]
  },
  {
   "cell_type": "code",
   "execution_count": 36,
   "metadata": {
    "_uuid": "7469a2e304420b6a518e7852019be28d1dff7c74"
   },
   "outputs": [
    {
     "name": "stdout",
     "output_type": "stream",
     "text": [
      "(1407581, 466868)\n"
     ]
    }
   ],
   "source": [
    "action_weights = [1,2,3]\n",
    "for row in events.itertuples():\n",
    "#    if row[2] not in user_with_buy:\n",
    "#        continue\n",
    "#    mapped_user_key = user_with_buy[row[2]]\n",
    "    mapped_user_key = row[2]\n",
    "    if row.event == 'view':\n",
    "            user_to_item_matrix[mapped_user_key, row[4]] = action_weights[0]\n",
    "    elif row.event == 'addtocart':\n",
    "            user_to_item_matrix[mapped_user_key, row[4]] = action_weights[1]        \n",
    "    elif row.event == 'transaction':\n",
    "            user_to_item_matrix[mapped_user_key, row[4]] = action_weights[2]\n",
    "user_to_item_matrix = user_to_item_matrix.tocsr()\n",
    "print (user_to_item_matrix.shape)"
   ]
  },
  {
   "cell_type": "code",
   "execution_count": 37,
   "metadata": {
    "_uuid": "80318f9f325eee17c2fee1d9f183c8874a2ed35e"
   },
   "outputs": [
    {
     "name": "stdout",
     "output_type": "stream",
     "text": [
      "0.00032643448597272263\n"
     ]
    },
    {
     "data": {
      "text/plain": [
       "(281517, 466868)"
      ]
     },
     "execution_count": 37,
     "metadata": {},
     "output_type": "execute_result"
    }
   ],
   "source": [
    "sparsity = float(len(user_to_item_matrix.nonzero()[0]))\n",
    "sparsity /= (user_to_item_matrix.shape[0] * user_to_item_matrix.shape[1])\n",
    "sparsity *= 100\n",
    "print (sparsity)\n",
    "X_train, X_test = train_test_split(user_to_item_matrix, test_size=0.20)\n",
    "X_train.shape\n",
    "X_test.shape"
   ]
  },
  {
   "cell_type": "code",
   "execution_count": 38,
   "metadata": {
    "_uuid": "5da610e10a38694951ac972a410b6c1211d165e0"
   },
   "outputs": [
    {
     "ename": "AttributeError",
     "evalue": "head not found",
     "output_type": "error",
     "traceback": [
      "\u001b[0;31m---------------------------------------------------------------------------\u001b[0m",
      "\u001b[0;31mAttributeError\u001b[0m                            Traceback (most recent call last)",
      "\u001b[0;32m<ipython-input-38-e47ca00a0bcf>\u001b[0m in \u001b[0;36m<module>\u001b[0;34m()\u001b[0m\n\u001b[1;32m      4\u001b[0m \u001b[0mcosine_similarity_matrix\u001b[0m\u001b[0;34m.\u001b[0m\u001b[0msetdiag\u001b[0m\u001b[0;34m(\u001b[0m\u001b[0;36m0\u001b[0m\u001b[0;34m)\u001b[0m\u001b[0;34m\u001b[0m\u001b[0m\n\u001b[1;32m      5\u001b[0m \u001b[0mcosine_similarity_matrix_ll\u001b[0m\u001b[0;34m=\u001b[0m\u001b[0mcosine_similarity_matrix\u001b[0m\u001b[0;34m.\u001b[0m\u001b[0mtolil\u001b[0m\u001b[0;34m(\u001b[0m\u001b[0;34m)\u001b[0m\u001b[0;34m\u001b[0m\u001b[0m\n\u001b[0;32m----> 6\u001b[0;31m \u001b[0mcosine_similarity_matrix\u001b[0m\u001b[0;34m.\u001b[0m\u001b[0mhead\u001b[0m\u001b[0;34m(\u001b[0m\u001b[0;34m)\u001b[0m\u001b[0;34m\u001b[0m\u001b[0m\n\u001b[0m",
      "\u001b[0;32m/opt/conda/lib/python3.6/site-packages/scipy/sparse/base.py\u001b[0m in \u001b[0;36m__getattr__\u001b[0;34m(self, attr)\u001b[0m\n\u001b[1;32m    684\u001b[0m             \u001b[0;32mreturn\u001b[0m \u001b[0mself\u001b[0m\u001b[0;34m.\u001b[0m\u001b[0mgetnnz\u001b[0m\u001b[0;34m(\u001b[0m\u001b[0;34m)\u001b[0m\u001b[0;34m\u001b[0m\u001b[0m\n\u001b[1;32m    685\u001b[0m         \u001b[0;32melse\u001b[0m\u001b[0;34m:\u001b[0m\u001b[0;34m\u001b[0m\u001b[0m\n\u001b[0;32m--> 686\u001b[0;31m             \u001b[0;32mraise\u001b[0m \u001b[0mAttributeError\u001b[0m\u001b[0;34m(\u001b[0m\u001b[0mattr\u001b[0m \u001b[0;34m+\u001b[0m \u001b[0;34m\" not found\"\u001b[0m\u001b[0;34m)\u001b[0m\u001b[0;34m\u001b[0m\u001b[0m\n\u001b[0m\u001b[1;32m    687\u001b[0m \u001b[0;34m\u001b[0m\u001b[0m\n\u001b[1;32m    688\u001b[0m     \u001b[0;32mdef\u001b[0m \u001b[0mtranspose\u001b[0m\u001b[0;34m(\u001b[0m\u001b[0mself\u001b[0m\u001b[0;34m,\u001b[0m \u001b[0maxes\u001b[0m\u001b[0;34m=\u001b[0m\u001b[0;32mNone\u001b[0m\u001b[0;34m,\u001b[0m \u001b[0mcopy\u001b[0m\u001b[0;34m=\u001b[0m\u001b[0;32mFalse\u001b[0m\u001b[0;34m)\u001b[0m\u001b[0;34m:\u001b[0m\u001b[0;34m\u001b[0m\u001b[0m\n",
      "\u001b[0;31mAttributeError\u001b[0m: head not found"
     ]
    }
   ],
   "source": [
    "from sklearn.metrics.pairwise import cosine_similarity\n",
    "# TODO: this is user to user similarity. check item to item similarity as well\n",
    "cosine_similarity_matrix = cosine_similarity(X_train, X_train, dense_output=False)\n",
    "cosine_similarity_matrix.setdiag(0)\n",
    "cosine_similarity_matrix_ll=cosine_similarity_matrix.tolil()\n",
    "cosine_similarity_matrix.head()"
   ]
  },
  {
   "cell_type": "code",
   "execution_count": 39,
   "metadata": {
    "_uuid": "9c369967e82840f3ab53b6f5deb33cc599cfd79e"
   },
   "outputs": [],
   "source": [
    "from datetime import datetime, timedelta\n",
    "from sklearn import preprocessing\n",
    "from lightfm import LightFM\n",
    "from scipy.sparse import csr_matrix \n",
    "from scipy.sparse import coo_matrix \n",
    "from sklearn.metrics import roc_auc_score\n",
    "import time\n",
    "from lightfm.evaluation import auc_score\n",
    "import pickle\n",
    "\n",
    "def create_data(datapath,start_date,end_date):\n",
    "    df=pd.read_csv(datapath)\n",
    "    df=df.assign(date=pd.Series(datetime.fromtimestamp(a/1000).date() for a in df.timestamp))\n",
    "    df=df.sort_values(by='date').reset_index(drop=True) # for some reasons RetailRocket did NOT sort data by date\n",
    "    df=df[(df.date>=datetime.strptime(start_date,'%Y-%m-%d').date())&(df.date<=datetime.strptime(end_date,'%Y-%m-%d').date())]\n",
    "    df=df[['visitorid','itemid','event']]\n",
    "    return df\n",
    "\n",
    "def create_implicit_feedback_matrix(df, split_ratio):\n",
    "    # assume df.columns=['visitorid','itemid','event']\n",
    "    id_cols=['visitorid','itemid']\n",
    "    trans_cat=dict()\n",
    "    for k in id_cols:\n",
    "        cate_enc=preprocessing.LabelEncoder()\n",
    "        trans_cat[k]=cate_enc.fit_transform(df[k].values)\n",
    "    cate_enc=preprocessing.LabelEncoder()\n",
    "    ratings=cate_enc.fit_transform(df.event) \n",
    "    n_users=len(np.unique(trans_cat['visitorid']))\n",
    "    n_items=len(np.unique(trans_cat['itemid']))    \n",
    "    split_point=np.int(np.round(df.shape[0]*split_ratio))\n",
    "    \n",
    "    rate_matrix=dict()\n",
    "    rate_matrix['train']=coo_matrix((ratings[0:split_point],(trans_cat['visitorid'][0:split_point],\\\n",
    "                                              trans_cat['itemid'][0:split_point]))\\\n",
    "                             ,shape=(n_users,n_items))\n",
    "    rate_matrix['test']=coo_matrix((ratings[split_point+1::],(trans_cat['visitorid'][split_point+1::],\\\n",
    "                                              trans_cat['itemid'][split_point+1::]))\\\n",
    "                             ,shape=(n_users,n_items))\n",
    "    return rate_matrix\n",
    "\n",
    "def create_implicit_feedback_matrix1(df, split_ratio):\n",
    "    # assume df.columns=['visitorid','itemid','event']\n",
    "    split_point=np.int(np.round(df.shape[0]*split_ratio))\n",
    "    df_train=df.iloc[0:split_point]\n",
    "    df_test=df.iloc[split_point::]\n",
    "    df_test=df_test[(df_test['visitorid'].isin(df_train['visitorid']))&\\\n",
    "                     (df_test['itemid'].isin(df_train['itemid']))]\n",
    "    id_cols=['visitorid','itemid']\n",
    "    trans_cat_train=dict()\n",
    "    trans_cat_test=dict()\n",
    "    for k in id_cols:\n",
    "        cate_enc=preprocessing.LabelEncoder()\n",
    "        trans_cat_train[k]=cate_enc.fit_transform(df_train[k].values)\n",
    "        trans_cat_test[k]=cate_enc.transform(df_test[k].values)\n",
    "    \n",
    "    # --- Encode ratings:\n",
    "    cate_enc=preprocessing.LabelEncoder()\n",
    "    ratings=dict()\n",
    "    ratings['train']=cate_enc.fit_transform(df_train.event)\n",
    "    ratings['test'] =cate_enc.transform(df_test.event)\n",
    "    \n",
    "    n_users=len(np.unique(trans_cat_train['visitorid']))\n",
    "    n_items=len(np.unique(trans_cat_train['itemid']))    \n",
    "    \n",
    "    \n",
    "    rate_matrix=dict()\n",
    "    rate_matrix['train']=coo_matrix((ratings['train'],(trans_cat_train['visitorid'],\\\n",
    "                                              trans_cat_train['itemid']))\\\n",
    "                             ,shape=(n_users,n_items))\n",
    "    rate_matrix['test']=coo_matrix((ratings['test'],(trans_cat_test['visitorid'],\\\n",
    "                                              trans_cat_test['itemid']))\\\n",
    "                             ,shape=(n_users,n_items))\n",
    "    return rate_matrix\n",
    "\n",
    "if __name__=='__main__':\n",
    "    start_time = time.time()\n",
    "    df=create_data('../input/events.csv','2015-5-3','2015-5-18')\n",
    "    modelLoad=False\n",
    "    rating_matrix=create_implicit_feedback_matrix1(df,.8)\n",
    "    if(modelLoad):\n",
    "        with open('saved_model','rb') as f:\n",
    "            saved_model=pickle.load(f)\n",
    "            model=saved_model['model']\n",
    "    else:\n",
    "        model=LightFM(no_components=5,loss='warp')\n",
    "        model.fit(rating_matrix['train'],epochs=100,num_threads=1)\n",
    "        with open('saved_model','wb') as f:\n",
    "            saved_model={'model':model}\n",
    "            pickle.dump(saved_model, f)\n",
    "    auc_train = auc_score(model, rating_matrix['train']).mean()\n",
    "    auc_test = auc_score(model, rating_matrix['test']).mean()\n",
    "    \n",
    "    #df=df.assign(pred_score=model.predict(df['visitorid'],df['itemid']))\n",
    "    \n",
    "    #df_auc=df.groupby(by='visitorid').apply(lambda df: roc_auc_score(df['event'].values,df['pred_score'].values))\n",
    "    #print('Training auc %0.3f' % numpy.mean([i for i in df_auc.values if i > -1]))"
   ]
  },
  {
   "cell_type": "markdown",
   "metadata": {
    "_uuid": "0ec3376b76c783bfc8e04776b8741aa1e2fb8bad"
   },
   "source": []
  }
 ],
 "metadata": {
  "kernelspec": {
   "display_name": "Python 3",
   "language": "python",
   "name": "python3"
  },
  "language_info": {
   "codemirror_mode": {
    "name": "ipython",
    "version": 3
   },
   "file_extension": ".py",
   "mimetype": "text/x-python",
   "name": "python",
   "nbconvert_exporter": "python",
   "pygments_lexer": "ipython3",
   "version": "3.6.6"
  }
 },
 "nbformat": 4,
 "nbformat_minor": 1
}
